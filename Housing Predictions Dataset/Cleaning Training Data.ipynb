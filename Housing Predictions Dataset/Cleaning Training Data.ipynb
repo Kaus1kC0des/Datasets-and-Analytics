{
 "cells": [
  {
   "cell_type": "code",
   "execution_count": 1,
   "id": "2b34010c",
   "metadata": {},
   "outputs": [],
   "source": [
    "import pandas as pd\n",
    "import numpy as np"
   ]
  },
  {
   "cell_type": "code",
   "execution_count": 18,
   "id": "bb7dc803",
   "metadata": {
    "collapsed": true
   },
   "outputs": [
    {
     "data": {
      "text/html": [
       "<div>\n",
       "<style scoped>\n",
       "    .dataframe tbody tr th:only-of-type {\n",
       "        vertical-align: middle;\n",
       "    }\n",
       "\n",
       "    .dataframe tbody tr th {\n",
       "        vertical-align: top;\n",
       "    }\n",
       "\n",
       "    .dataframe thead th {\n",
       "        text-align: right;\n",
       "    }\n",
       "</style>\n",
       "<table border=\"1\" class=\"dataframe\">\n",
       "  <thead>\n",
       "    <tr style=\"text-align: right;\">\n",
       "      <th></th>\n",
       "      <th>Id</th>\n",
       "      <th>MSSubClass</th>\n",
       "      <th>MSZoning</th>\n",
       "      <th>LotFrontage</th>\n",
       "      <th>LotArea</th>\n",
       "      <th>Street</th>\n",
       "      <th>Alley</th>\n",
       "      <th>LotShape</th>\n",
       "      <th>LandContour</th>\n",
       "      <th>Utilities</th>\n",
       "      <th>...</th>\n",
       "      <th>PoolArea</th>\n",
       "      <th>PoolQC</th>\n",
       "      <th>Fence</th>\n",
       "      <th>MiscFeature</th>\n",
       "      <th>MiscVal</th>\n",
       "      <th>MoSold</th>\n",
       "      <th>YrSold</th>\n",
       "      <th>SaleType</th>\n",
       "      <th>SaleCondition</th>\n",
       "      <th>SalePrice</th>\n",
       "    </tr>\n",
       "  </thead>\n",
       "  <tbody>\n",
       "    <tr>\n",
       "      <th>0</th>\n",
       "      <td>1</td>\n",
       "      <td>60</td>\n",
       "      <td>RL</td>\n",
       "      <td>65.0</td>\n",
       "      <td>8450</td>\n",
       "      <td>Pave</td>\n",
       "      <td>NaN</td>\n",
       "      <td>Reg</td>\n",
       "      <td>Lvl</td>\n",
       "      <td>AllPub</td>\n",
       "      <td>...</td>\n",
       "      <td>0</td>\n",
       "      <td>NaN</td>\n",
       "      <td>NaN</td>\n",
       "      <td>NaN</td>\n",
       "      <td>0</td>\n",
       "      <td>2</td>\n",
       "      <td>2008</td>\n",
       "      <td>WD</td>\n",
       "      <td>Normal</td>\n",
       "      <td>208500</td>\n",
       "    </tr>\n",
       "    <tr>\n",
       "      <th>1</th>\n",
       "      <td>2</td>\n",
       "      <td>20</td>\n",
       "      <td>RL</td>\n",
       "      <td>80.0</td>\n",
       "      <td>9600</td>\n",
       "      <td>Pave</td>\n",
       "      <td>NaN</td>\n",
       "      <td>Reg</td>\n",
       "      <td>Lvl</td>\n",
       "      <td>AllPub</td>\n",
       "      <td>...</td>\n",
       "      <td>0</td>\n",
       "      <td>NaN</td>\n",
       "      <td>NaN</td>\n",
       "      <td>NaN</td>\n",
       "      <td>0</td>\n",
       "      <td>5</td>\n",
       "      <td>2007</td>\n",
       "      <td>WD</td>\n",
       "      <td>Normal</td>\n",
       "      <td>181500</td>\n",
       "    </tr>\n",
       "    <tr>\n",
       "      <th>2</th>\n",
       "      <td>3</td>\n",
       "      <td>60</td>\n",
       "      <td>RL</td>\n",
       "      <td>68.0</td>\n",
       "      <td>11250</td>\n",
       "      <td>Pave</td>\n",
       "      <td>NaN</td>\n",
       "      <td>IR1</td>\n",
       "      <td>Lvl</td>\n",
       "      <td>AllPub</td>\n",
       "      <td>...</td>\n",
       "      <td>0</td>\n",
       "      <td>NaN</td>\n",
       "      <td>NaN</td>\n",
       "      <td>NaN</td>\n",
       "      <td>0</td>\n",
       "      <td>9</td>\n",
       "      <td>2008</td>\n",
       "      <td>WD</td>\n",
       "      <td>Normal</td>\n",
       "      <td>223500</td>\n",
       "    </tr>\n",
       "    <tr>\n",
       "      <th>3</th>\n",
       "      <td>4</td>\n",
       "      <td>70</td>\n",
       "      <td>RL</td>\n",
       "      <td>60.0</td>\n",
       "      <td>9550</td>\n",
       "      <td>Pave</td>\n",
       "      <td>NaN</td>\n",
       "      <td>IR1</td>\n",
       "      <td>Lvl</td>\n",
       "      <td>AllPub</td>\n",
       "      <td>...</td>\n",
       "      <td>0</td>\n",
       "      <td>NaN</td>\n",
       "      <td>NaN</td>\n",
       "      <td>NaN</td>\n",
       "      <td>0</td>\n",
       "      <td>2</td>\n",
       "      <td>2006</td>\n",
       "      <td>WD</td>\n",
       "      <td>Abnorml</td>\n",
       "      <td>140000</td>\n",
       "    </tr>\n",
       "    <tr>\n",
       "      <th>4</th>\n",
       "      <td>5</td>\n",
       "      <td>60</td>\n",
       "      <td>RL</td>\n",
       "      <td>84.0</td>\n",
       "      <td>14260</td>\n",
       "      <td>Pave</td>\n",
       "      <td>NaN</td>\n",
       "      <td>IR1</td>\n",
       "      <td>Lvl</td>\n",
       "      <td>AllPub</td>\n",
       "      <td>...</td>\n",
       "      <td>0</td>\n",
       "      <td>NaN</td>\n",
       "      <td>NaN</td>\n",
       "      <td>NaN</td>\n",
       "      <td>0</td>\n",
       "      <td>12</td>\n",
       "      <td>2008</td>\n",
       "      <td>WD</td>\n",
       "      <td>Normal</td>\n",
       "      <td>250000</td>\n",
       "    </tr>\n",
       "  </tbody>\n",
       "</table>\n",
       "<p>5 rows × 81 columns</p>\n",
       "</div>"
      ],
      "text/plain": [
       "   Id  MSSubClass MSZoning  LotFrontage  LotArea Street Alley LotShape  \\\n",
       "0   1          60       RL         65.0     8450   Pave   NaN      Reg   \n",
       "1   2          20       RL         80.0     9600   Pave   NaN      Reg   \n",
       "2   3          60       RL         68.0    11250   Pave   NaN      IR1   \n",
       "3   4          70       RL         60.0     9550   Pave   NaN      IR1   \n",
       "4   5          60       RL         84.0    14260   Pave   NaN      IR1   \n",
       "\n",
       "  LandContour Utilities  ... PoolArea PoolQC Fence MiscFeature MiscVal MoSold  \\\n",
       "0         Lvl    AllPub  ...        0    NaN   NaN         NaN       0      2   \n",
       "1         Lvl    AllPub  ...        0    NaN   NaN         NaN       0      5   \n",
       "2         Lvl    AllPub  ...        0    NaN   NaN         NaN       0      9   \n",
       "3         Lvl    AllPub  ...        0    NaN   NaN         NaN       0      2   \n",
       "4         Lvl    AllPub  ...        0    NaN   NaN         NaN       0     12   \n",
       "\n",
       "  YrSold  SaleType  SaleCondition  SalePrice  \n",
       "0   2008        WD         Normal     208500  \n",
       "1   2007        WD         Normal     181500  \n",
       "2   2008        WD         Normal     223500  \n",
       "3   2006        WD        Abnorml     140000  \n",
       "4   2008        WD         Normal     250000  \n",
       "\n",
       "[5 rows x 81 columns]"
      ]
     },
     "execution_count": 18,
     "metadata": {},
     "output_type": "execute_result"
    }
   ],
   "source": [
    "df = pd.read_csv('train.csv')\n",
    "df.head()"
   ]
  },
  {
   "cell_type": "code",
   "execution_count": 5,
   "id": "38c6447a",
   "metadata": {
    "scrolled": true
   },
   "outputs": [
    {
     "data": {
      "text/plain": [
       "81"
      ]
     },
     "execution_count": 5,
     "metadata": {},
     "output_type": "execute_result"
    }
   ],
   "source": [
    "len(df.columns)"
   ]
  },
  {
   "cell_type": "code",
   "execution_count": 4,
   "id": "efb9c6c4",
   "metadata": {
    "scrolled": true
   },
   "outputs": [
    {
     "data": {
      "text/plain": [
       "1460"
      ]
     },
     "execution_count": 4,
     "metadata": {},
     "output_type": "execute_result"
    }
   ],
   "source": [
    "len(df.index)"
   ]
  },
  {
   "cell_type": "code",
   "execution_count": 26,
   "id": "7d6e0d51",
   "metadata": {},
   "outputs": [
    {
     "data": {
      "text/plain": [
       "{}"
      ]
     },
     "execution_count": 26,
     "metadata": {},
     "output_type": "execute_result"
    }
   ],
   "source": [
    "a = {col:(df[col].isnull().sum()/len(df.index))*100 for col in df.columns if (df[col].isnull().sum()/len(df.index))*100 >30}\n",
    "a"
   ]
  },
  {
   "cell_type": "code",
   "execution_count": 19,
   "id": "a410af6d",
   "metadata": {},
   "outputs": [
    {
     "data": {
      "text/plain": [
       "76"
      ]
     },
     "execution_count": 19,
     "metadata": {},
     "output_type": "execute_result"
    }
   ],
   "source": [
    "df = df.drop([i for i in a.keys()],axis=1)\n",
    "len(df.columns)"
   ]
  },
  {
   "cell_type": "code",
   "execution_count": 27,
   "id": "bb7ee078",
   "metadata": {
    "scrolled": true
   },
   "outputs": [
    {
     "data": {
      "text/plain": [
       "{'Id': 0.0,\n",
       " 'MSSubClass': 0.0,\n",
       " 'MSZoning': 0.0,\n",
       " 'LotFrontage': 17.73972602739726,\n",
       " 'LotArea': 0.0,\n",
       " 'Street': 0.0,\n",
       " 'LotShape': 0.0,\n",
       " 'LandContour': 0.0,\n",
       " 'Utilities': 0.0,\n",
       " 'LotConfig': 0.0,\n",
       " 'LandSlope': 0.0,\n",
       " 'Neighborhood': 0.0,\n",
       " 'Condition1': 0.0,\n",
       " 'Condition2': 0.0,\n",
       " 'BldgType': 0.0,\n",
       " 'HouseStyle': 0.0,\n",
       " 'OverallQual': 0.0,\n",
       " 'OverallCond': 0.0,\n",
       " 'YearBuilt': 0.0,\n",
       " 'YearRemodAdd': 0.0,\n",
       " 'RoofStyle': 0.0,\n",
       " 'RoofMatl': 0.0,\n",
       " 'Exterior1st': 0.0,\n",
       " 'Exterior2nd': 0.0,\n",
       " 'MasVnrType': 0.547945205479452,\n",
       " 'MasVnrArea': 0.547945205479452,\n",
       " 'ExterQual': 0.0,\n",
       " 'ExterCond': 0.0,\n",
       " 'Foundation': 0.0,\n",
       " 'BsmtQual': 2.5342465753424657,\n",
       " 'BsmtCond': 2.5342465753424657,\n",
       " 'BsmtExposure': 2.6027397260273974,\n",
       " 'BsmtFinType1': 2.5342465753424657,\n",
       " 'BsmtFinSF1': 0.0,\n",
       " 'BsmtFinType2': 2.6027397260273974,\n",
       " 'BsmtFinSF2': 0.0,\n",
       " 'BsmtUnfSF': 0.0,\n",
       " 'TotalBsmtSF': 0.0,\n",
       " 'Heating': 0.0,\n",
       " 'HeatingQC': 0.0,\n",
       " 'CentralAir': 0.0,\n",
       " 'Electrical': 0.0684931506849315,\n",
       " '1stFlrSF': 0.0,\n",
       " '2ndFlrSF': 0.0,\n",
       " 'LowQualFinSF': 0.0,\n",
       " 'GrLivArea': 0.0,\n",
       " 'BsmtFullBath': 0.0,\n",
       " 'BsmtHalfBath': 0.0,\n",
       " 'FullBath': 0.0,\n",
       " 'HalfBath': 0.0,\n",
       " 'BedroomAbvGr': 0.0,\n",
       " 'KitchenAbvGr': 0.0,\n",
       " 'KitchenQual': 0.0,\n",
       " 'TotRmsAbvGrd': 0.0,\n",
       " 'Functional': 0.0,\n",
       " 'Fireplaces': 0.0,\n",
       " 'GarageType': 5.5479452054794525,\n",
       " 'GarageYrBlt': 5.5479452054794525,\n",
       " 'GarageFinish': 5.5479452054794525,\n",
       " 'GarageCars': 0.0,\n",
       " 'GarageArea': 0.0,\n",
       " 'GarageQual': 5.5479452054794525,\n",
       " 'GarageCond': 5.5479452054794525,\n",
       " 'PavedDrive': 0.0,\n",
       " 'WoodDeckSF': 0.0,\n",
       " 'OpenPorchSF': 0.0,\n",
       " 'EnclosedPorch': 0.0,\n",
       " '3SsnPorch': 0.0,\n",
       " 'ScreenPorch': 0.0,\n",
       " 'PoolArea': 0.0,\n",
       " 'MiscVal': 0.0,\n",
       " 'MoSold': 0.0,\n",
       " 'YrSold': 0.0,\n",
       " 'SaleType': 0.0,\n",
       " 'SaleCondition': 0.0,\n",
       " 'SalePrice': 0.0}"
      ]
     },
     "execution_count": 27,
     "metadata": {},
     "output_type": "execute_result"
    }
   ],
   "source": [
    "final = a = {col:(df[col].isnull().sum()/len(df.index))*100 for col in df.columns}\n",
    "final"
   ]
  },
  {
   "cell_type": "code",
   "execution_count": 28,
   "id": "1d2b2488",
   "metadata": {
    "scrolled": true
   },
   "outputs": [
    {
     "data": {
      "text/plain": [
       "{'LotFrontage': 17.73972602739726,\n",
       " 'MasVnrType': 0.547945205479452,\n",
       " 'MasVnrArea': 0.547945205479452,\n",
       " 'BsmtQual': 2.5342465753424657,\n",
       " 'BsmtCond': 2.5342465753424657,\n",
       " 'BsmtExposure': 2.6027397260273974,\n",
       " 'BsmtFinType1': 2.5342465753424657,\n",
       " 'BsmtFinType2': 2.6027397260273974,\n",
       " 'Electrical': 0.0684931506849315,\n",
       " 'GarageType': 5.5479452054794525,\n",
       " 'GarageYrBlt': 5.5479452054794525,\n",
       " 'GarageFinish': 5.5479452054794525,\n",
       " 'GarageQual': 5.5479452054794525,\n",
       " 'GarageCond': 5.5479452054794525}"
      ]
     },
     "execution_count": 28,
     "metadata": {},
     "output_type": "execute_result"
    }
   ],
   "source": [
    "missing = {i:final[i] for i in a.keys() if final[i]!=0.0}\n",
    "missing"
   ]
  },
  {
   "cell_type": "code",
   "execution_count": 38,
   "id": "1f534a7b",
   "metadata": {},
   "outputs": [
    {
     "data": {
      "text/plain": [
       "1201"
      ]
     },
     "execution_count": 38,
     "metadata": {},
     "output_type": "execute_result"
    }
   ],
   "source": [
    "df.dropna(subset='LotFrontage',axis=0,inplace=True)\n",
    "len(df.index)"
   ]
  }
 ],
 "metadata": {
  "kernelspec": {
   "display_name": "Python 3 (ipykernel)",
   "language": "python",
   "name": "python3"
  },
  "language_info": {
   "codemirror_mode": {
    "name": "ipython",
    "version": 3
   },
   "file_extension": ".py",
   "mimetype": "text/x-python",
   "name": "python",
   "nbconvert_exporter": "python",
   "pygments_lexer": "ipython3",
   "version": "3.10.9"
  }
 },
 "nbformat": 4,
 "nbformat_minor": 5
}
