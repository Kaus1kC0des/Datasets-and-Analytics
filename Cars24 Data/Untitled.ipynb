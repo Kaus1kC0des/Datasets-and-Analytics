{
 "cells": [
  {
   "cell_type": "markdown",
   "id": "e393b990",
   "metadata": {},
   "source": [
    "# Importing and Checking Data "
   ]
  },
  {
   "cell_type": "code",
   "execution_count": 1,
   "id": "be11bc1f",
   "metadata": {},
   "outputs": [],
   "source": [
    "import numpy as np\n",
    "import pandas as pd\n",
    "import seaborn as sns\n",
    "import matplotlib.pyplot as plt\n",
    "%matplotlib inline"
   ]
  },
  {
   "cell_type": "code",
   "execution_count": 2,
   "id": "26e48811",
   "metadata": {},
   "outputs": [
    {
     "data": {
      "text/html": [
       "<div>\n",
       "<style scoped>\n",
       "    .dataframe tbody tr th:only-of-type {\n",
       "        vertical-align: middle;\n",
       "    }\n",
       "\n",
       "    .dataframe tbody tr th {\n",
       "        vertical-align: top;\n",
       "    }\n",
       "\n",
       "    .dataframe thead th {\n",
       "        text-align: right;\n",
       "    }\n",
       "</style>\n",
       "<table border=\"1\" class=\"dataframe\">\n",
       "  <thead>\n",
       "    <tr style=\"text-align: right;\">\n",
       "      <th></th>\n",
       "      <th>Unnamed: 0</th>\n",
       "      <th>cars_name</th>\n",
       "      <th>cars_brand</th>\n",
       "      <th>model</th>\n",
       "      <th>model_year</th>\n",
       "      <th>car_type</th>\n",
       "      <th>kms</th>\n",
       "      <th>owner</th>\n",
       "      <th>gasoliene_type</th>\n",
       "      <th>price</th>\n",
       "      <th>emi_per_month</th>\n",
       "      <th>zero_downpayment</th>\n",
       "      <th>city</th>\n",
       "      <th>state</th>\n",
       "    </tr>\n",
       "  </thead>\n",
       "  <tbody>\n",
       "    <tr>\n",
       "      <th>0</th>\n",
       "      <td>0</td>\n",
       "      <td>Ford Ecosport</td>\n",
       "      <td>Ford</td>\n",
       "      <td>1.5 TITANIUMTDCI OPT</td>\n",
       "      <td>2013</td>\n",
       "      <td>Manual</td>\n",
       "      <td>179045</td>\n",
       "      <td>1</td>\n",
       "      <td>Diesel</td>\n",
       "      <td>507599</td>\n",
       "      <td>11291</td>\n",
       "      <td>Zero downpayment</td>\n",
       "      <td>Hyderabad</td>\n",
       "      <td>Telangana</td>\n",
       "    </tr>\n",
       "    <tr>\n",
       "      <th>1</th>\n",
       "      <td>1</td>\n",
       "      <td>Maruti Swift</td>\n",
       "      <td>Maruti</td>\n",
       "      <td>ZDI</td>\n",
       "      <td>2012</td>\n",
       "      <td>Manual</td>\n",
       "      <td>78819</td>\n",
       "      <td>2</td>\n",
       "      <td>Diesel</td>\n",
       "      <td>476699</td>\n",
       "      <td>10604</td>\n",
       "      <td>Zero downpayment</td>\n",
       "      <td>Hyderabad</td>\n",
       "      <td>Telangana</td>\n",
       "    </tr>\n",
       "    <tr>\n",
       "      <th>2</th>\n",
       "      <td>2</td>\n",
       "      <td>Honda Mobilio</td>\n",
       "      <td>Honda</td>\n",
       "      <td>1.5 V OPT I DTEC</td>\n",
       "      <td>2014</td>\n",
       "      <td>Manual</td>\n",
       "      <td>97289</td>\n",
       "      <td>2</td>\n",
       "      <td>Diesel</td>\n",
       "      <td>494799</td>\n",
       "      <td>11007</td>\n",
       "      <td>Zero downpayment</td>\n",
       "      <td>Hyderabad</td>\n",
       "      <td>Telangana</td>\n",
       "    </tr>\n",
       "    <tr>\n",
       "      <th>3</th>\n",
       "      <td>3</td>\n",
       "      <td>Maruti Wagon R 1.0</td>\n",
       "      <td>Maruti</td>\n",
       "      <td>VXI</td>\n",
       "      <td>2013</td>\n",
       "      <td>Manual</td>\n",
       "      <td>45693</td>\n",
       "      <td>2</td>\n",
       "      <td>Petrol</td>\n",
       "      <td>331999</td>\n",
       "      <td>7385</td>\n",
       "      <td>Zero downpayment</td>\n",
       "      <td>Hyderabad</td>\n",
       "      <td>Telangana</td>\n",
       "    </tr>\n",
       "    <tr>\n",
       "      <th>4</th>\n",
       "      <td>4</td>\n",
       "      <td>Hyundai i20 Active</td>\n",
       "      <td>Hyundai</td>\n",
       "      <td>1.2 S</td>\n",
       "      <td>2016</td>\n",
       "      <td>Manual</td>\n",
       "      <td>40586</td>\n",
       "      <td>1</td>\n",
       "      <td>Petrol</td>\n",
       "      <td>620299</td>\n",
       "      <td>13798</td>\n",
       "      <td>Zero downpayment</td>\n",
       "      <td>Hyderabad</td>\n",
       "      <td>Telangana</td>\n",
       "    </tr>\n",
       "  </tbody>\n",
       "</table>\n",
       "</div>"
      ],
      "text/plain": [
       "   Unnamed: 0           cars_name cars_brand                  model  \\\n",
       "0           0       Ford Ecosport       Ford  1.5 TITANIUMTDCI OPT    \n",
       "1           1        Maruti Swift     Maruti                   ZDI    \n",
       "2           2       Honda Mobilio      Honda      1.5 V OPT I DTEC    \n",
       "3           3  Maruti Wagon R 1.0     Maruti                   VXI    \n",
       "4           4  Hyundai i20 Active    Hyundai                 1.2 S    \n",
       "\n",
       "   model_year car_type     kms  owner gasoliene_type   price  emi_per_month  \\\n",
       "0        2013   Manual  179045      1         Diesel  507599          11291   \n",
       "1        2012   Manual   78819      2         Diesel  476699          10604   \n",
       "2        2014   Manual   97289      2         Diesel  494799          11007   \n",
       "3        2013   Manual   45693      2         Petrol  331999           7385   \n",
       "4        2016   Manual   40586      1         Petrol  620299          13798   \n",
       "\n",
       "   zero_downpayment       city      state  \n",
       "0  Zero downpayment  Hyderabad  Telangana  \n",
       "1  Zero downpayment  Hyderabad  Telangana  \n",
       "2  Zero downpayment  Hyderabad  Telangana  \n",
       "3  Zero downpayment  Hyderabad  Telangana  \n",
       "4  Zero downpayment  Hyderabad  Telangana  "
      ]
     },
     "execution_count": 2,
     "metadata": {},
     "output_type": "execute_result"
    }
   ],
   "source": [
    "df = pd.read_csv('cars24fullclean.csv')\n",
    "df.head()"
   ]
  },
  {
   "cell_type": "code",
   "execution_count": 3,
   "id": "fcf9521e",
   "metadata": {},
   "outputs": [
    {
     "name": "stdout",
     "output_type": "stream",
     "text": [
      "<class 'pandas.core.frame.DataFrame'>\n",
      "RangeIndex: 4490 entries, 0 to 4489\n",
      "Data columns (total 14 columns):\n",
      " #   Column            Non-Null Count  Dtype \n",
      "---  ------            --------------  ----- \n",
      " 0   Unnamed: 0        4490 non-null   int64 \n",
      " 1   cars_name         4490 non-null   object\n",
      " 2   cars_brand        4490 non-null   object\n",
      " 3   model             4490 non-null   object\n",
      " 4   model_year        4490 non-null   int64 \n",
      " 5   car_type          4490 non-null   object\n",
      " 6   kms               4490 non-null   int64 \n",
      " 7   owner             4490 non-null   int64 \n",
      " 8   gasoliene_type    4490 non-null   object\n",
      " 9   price             4490 non-null   int64 \n",
      " 10  emi_per_month     4490 non-null   int64 \n",
      " 11  zero_downpayment  4490 non-null   object\n",
      " 12  city              4490 non-null   object\n",
      " 13  state             4490 non-null   object\n",
      "dtypes: int64(6), object(8)\n",
      "memory usage: 491.2+ KB\n"
     ]
    }
   ],
   "source": [
    "df.info()"
   ]
  },
  {
   "cell_type": "code",
   "execution_count": 6,
   "id": "931ce593",
   "metadata": {
    "scrolled": true
   },
   "outputs": [
    {
     "data": {
      "text/html": [
       "<div>\n",
       "<style scoped>\n",
       "    .dataframe tbody tr th:only-of-type {\n",
       "        vertical-align: middle;\n",
       "    }\n",
       "\n",
       "    .dataframe tbody tr th {\n",
       "        vertical-align: top;\n",
       "    }\n",
       "\n",
       "    .dataframe thead th {\n",
       "        text-align: right;\n",
       "    }\n",
       "</style>\n",
       "<table border=\"1\" class=\"dataframe\">\n",
       "  <thead>\n",
       "    <tr style=\"text-align: right;\">\n",
       "      <th></th>\n",
       "      <th>cars_name</th>\n",
       "      <th>cars_brand</th>\n",
       "      <th>model</th>\n",
       "      <th>model_year</th>\n",
       "      <th>car_type</th>\n",
       "      <th>kms</th>\n",
       "      <th>owner</th>\n",
       "      <th>gasoliene_type</th>\n",
       "      <th>price</th>\n",
       "      <th>emi_per_month</th>\n",
       "      <th>zero_downpayment</th>\n",
       "      <th>city</th>\n",
       "      <th>state</th>\n",
       "    </tr>\n",
       "  </thead>\n",
       "  <tbody>\n",
       "    <tr>\n",
       "      <th>0</th>\n",
       "      <td>Ford Ecosport</td>\n",
       "      <td>Ford</td>\n",
       "      <td>1.5 TITANIUMTDCI OPT</td>\n",
       "      <td>2013</td>\n",
       "      <td>Manual</td>\n",
       "      <td>179045</td>\n",
       "      <td>1</td>\n",
       "      <td>Diesel</td>\n",
       "      <td>507599</td>\n",
       "      <td>11291</td>\n",
       "      <td>Zero downpayment</td>\n",
       "      <td>Hyderabad</td>\n",
       "      <td>Telangana</td>\n",
       "    </tr>\n",
       "    <tr>\n",
       "      <th>1</th>\n",
       "      <td>Maruti Swift</td>\n",
       "      <td>Maruti</td>\n",
       "      <td>ZDI</td>\n",
       "      <td>2012</td>\n",
       "      <td>Manual</td>\n",
       "      <td>78819</td>\n",
       "      <td>2</td>\n",
       "      <td>Diesel</td>\n",
       "      <td>476699</td>\n",
       "      <td>10604</td>\n",
       "      <td>Zero downpayment</td>\n",
       "      <td>Hyderabad</td>\n",
       "      <td>Telangana</td>\n",
       "    </tr>\n",
       "    <tr>\n",
       "      <th>2</th>\n",
       "      <td>Honda Mobilio</td>\n",
       "      <td>Honda</td>\n",
       "      <td>1.5 V OPT I DTEC</td>\n",
       "      <td>2014</td>\n",
       "      <td>Manual</td>\n",
       "      <td>97289</td>\n",
       "      <td>2</td>\n",
       "      <td>Diesel</td>\n",
       "      <td>494799</td>\n",
       "      <td>11007</td>\n",
       "      <td>Zero downpayment</td>\n",
       "      <td>Hyderabad</td>\n",
       "      <td>Telangana</td>\n",
       "    </tr>\n",
       "    <tr>\n",
       "      <th>3</th>\n",
       "      <td>Maruti Wagon R 1.0</td>\n",
       "      <td>Maruti</td>\n",
       "      <td>VXI</td>\n",
       "      <td>2013</td>\n",
       "      <td>Manual</td>\n",
       "      <td>45693</td>\n",
       "      <td>2</td>\n",
       "      <td>Petrol</td>\n",
       "      <td>331999</td>\n",
       "      <td>7385</td>\n",
       "      <td>Zero downpayment</td>\n",
       "      <td>Hyderabad</td>\n",
       "      <td>Telangana</td>\n",
       "    </tr>\n",
       "    <tr>\n",
       "      <th>4</th>\n",
       "      <td>Hyundai i20 Active</td>\n",
       "      <td>Hyundai</td>\n",
       "      <td>1.2 S</td>\n",
       "      <td>2016</td>\n",
       "      <td>Manual</td>\n",
       "      <td>40586</td>\n",
       "      <td>1</td>\n",
       "      <td>Petrol</td>\n",
       "      <td>620299</td>\n",
       "      <td>13798</td>\n",
       "      <td>Zero downpayment</td>\n",
       "      <td>Hyderabad</td>\n",
       "      <td>Telangana</td>\n",
       "    </tr>\n",
       "    <tr>\n",
       "      <th>...</th>\n",
       "      <td>...</td>\n",
       "      <td>...</td>\n",
       "      <td>...</td>\n",
       "      <td>...</td>\n",
       "      <td>...</td>\n",
       "      <td>...</td>\n",
       "      <td>...</td>\n",
       "      <td>...</td>\n",
       "      <td>...</td>\n",
       "      <td>...</td>\n",
       "      <td>...</td>\n",
       "      <td>...</td>\n",
       "      <td>...</td>\n",
       "    </tr>\n",
       "    <tr>\n",
       "      <th>4485</th>\n",
       "      <td>Maruti Swift</td>\n",
       "      <td>Maruti</td>\n",
       "      <td>VDI</td>\n",
       "      <td>2013</td>\n",
       "      <td>Manual</td>\n",
       "      <td>35212</td>\n",
       "      <td>1</td>\n",
       "      <td>Diesel</td>\n",
       "      <td>32799</td>\n",
       "      <td>627</td>\n",
       "      <td>Zero downpayment</td>\n",
       "      <td>Pune</td>\n",
       "      <td>Maharashtra</td>\n",
       "    </tr>\n",
       "    <tr>\n",
       "      <th>4486</th>\n",
       "      <td>Maruti Eeco</td>\n",
       "      <td>Maruti</td>\n",
       "      <td>5 STR WITH AC PLUSHTR</td>\n",
       "      <td>2018</td>\n",
       "      <td>Manual</td>\n",
       "      <td>23573</td>\n",
       "      <td>1</td>\n",
       "      <td>Petrol</td>\n",
       "      <td>27399</td>\n",
       "      <td>507</td>\n",
       "      <td>Zero downpayment</td>\n",
       "      <td>Pune</td>\n",
       "      <td>Maharashtra</td>\n",
       "    </tr>\n",
       "    <tr>\n",
       "      <th>4487</th>\n",
       "      <td>Maruti Alto 800</td>\n",
       "      <td>Maruti</td>\n",
       "      <td>LXI</td>\n",
       "      <td>2018</td>\n",
       "      <td>Manual</td>\n",
       "      <td>33004</td>\n",
       "      <td>1</td>\n",
       "      <td>Petrol</td>\n",
       "      <td>9699</td>\n",
       "      <td>889</td>\n",
       "      <td>Zero downpayment</td>\n",
       "      <td>Pune</td>\n",
       "      <td>Maharashtra</td>\n",
       "    </tr>\n",
       "    <tr>\n",
       "      <th>4488</th>\n",
       "      <td>Maruti Alto K10</td>\n",
       "      <td>Maruti</td>\n",
       "      <td>LXI CNG (O)</td>\n",
       "      <td>2019</td>\n",
       "      <td>Manual</td>\n",
       "      <td>57875</td>\n",
       "      <td>1</td>\n",
       "      <td>Petrol</td>\n",
       "      <td>31299</td>\n",
       "      <td>594</td>\n",
       "      <td>Zero downpayment</td>\n",
       "      <td>Pune</td>\n",
       "      <td>Maharashtra</td>\n",
       "    </tr>\n",
       "    <tr>\n",
       "      <th>4489</th>\n",
       "      <td>Maruti Alto 800</td>\n",
       "      <td>Maruti</td>\n",
       "      <td>VXI</td>\n",
       "      <td>2018</td>\n",
       "      <td>Manual</td>\n",
       "      <td>20369</td>\n",
       "      <td>1</td>\n",
       "      <td>Petrol</td>\n",
       "      <td>23199</td>\n",
       "      <td>189</td>\n",
       "      <td>Zero downpayment</td>\n",
       "      <td>Pune</td>\n",
       "      <td>Maharashtra</td>\n",
       "    </tr>\n",
       "  </tbody>\n",
       "</table>\n",
       "<p>4490 rows × 13 columns</p>\n",
       "</div>"
      ],
      "text/plain": [
       "               cars_name cars_brand                   model  model_year  \\\n",
       "0          Ford Ecosport       Ford   1.5 TITANIUMTDCI OPT         2013   \n",
       "1           Maruti Swift     Maruti                    ZDI         2012   \n",
       "2          Honda Mobilio      Honda       1.5 V OPT I DTEC         2014   \n",
       "3     Maruti Wagon R 1.0     Maruti                    VXI         2013   \n",
       "4     Hyundai i20 Active    Hyundai                  1.2 S         2016   \n",
       "...                  ...        ...                     ...         ...   \n",
       "4485        Maruti Swift     Maruti                    VDI         2013   \n",
       "4486         Maruti Eeco     Maruti  5 STR WITH AC PLUSHTR         2018   \n",
       "4487     Maruti Alto 800     Maruti                    LXI         2018   \n",
       "4488     Maruti Alto K10     Maruti            LXI CNG (O)         2019   \n",
       "4489     Maruti Alto 800     Maruti                    VXI         2018   \n",
       "\n",
       "     car_type     kms  owner gasoliene_type   price  emi_per_month  \\\n",
       "0      Manual  179045      1         Diesel  507599          11291   \n",
       "1      Manual   78819      2         Diesel  476699          10604   \n",
       "2      Manual   97289      2         Diesel  494799          11007   \n",
       "3      Manual   45693      2         Petrol  331999           7385   \n",
       "4      Manual   40586      1         Petrol  620299          13798   \n",
       "...       ...     ...    ...            ...     ...            ...   \n",
       "4485   Manual   35212      1         Diesel   32799            627   \n",
       "4486   Manual   23573      1         Petrol   27399            507   \n",
       "4487   Manual   33004      1         Petrol    9699            889   \n",
       "4488   Manual   57875      1         Petrol   31299            594   \n",
       "4489   Manual   20369      1         Petrol   23199            189   \n",
       "\n",
       "      zero_downpayment       city        state  \n",
       "0     Zero downpayment  Hyderabad    Telangana  \n",
       "1     Zero downpayment  Hyderabad    Telangana  \n",
       "2     Zero downpayment  Hyderabad    Telangana  \n",
       "3     Zero downpayment  Hyderabad    Telangana  \n",
       "4     Zero downpayment  Hyderabad    Telangana  \n",
       "...                ...        ...          ...  \n",
       "4485  Zero downpayment       Pune  Maharashtra  \n",
       "4486  Zero downpayment       Pune  Maharashtra  \n",
       "4487  Zero downpayment       Pune  Maharashtra  \n",
       "4488  Zero downpayment       Pune  Maharashtra  \n",
       "4489  Zero downpayment       Pune  Maharashtra  \n",
       "\n",
       "[4490 rows x 13 columns]"
      ]
     },
     "execution_count": 6,
     "metadata": {},
     "output_type": "execute_result"
    }
   ],
   "source": [
    "df.drop('Unnamed: 0',axis=1,inplace=True)\n",
    "df"
   ]
  },
  {
   "cell_type": "code",
   "execution_count": 7,
   "id": "92060552",
   "metadata": {},
   "outputs": [
    {
     "data": {
      "text/html": [
       "<div>\n",
       "<style scoped>\n",
       "    .dataframe tbody tr th:only-of-type {\n",
       "        vertical-align: middle;\n",
       "    }\n",
       "\n",
       "    .dataframe tbody tr th {\n",
       "        vertical-align: top;\n",
       "    }\n",
       "\n",
       "    .dataframe thead th {\n",
       "        text-align: right;\n",
       "    }\n",
       "</style>\n",
       "<table border=\"1\" class=\"dataframe\">\n",
       "  <thead>\n",
       "    <tr style=\"text-align: right;\">\n",
       "      <th></th>\n",
       "      <th>model_year</th>\n",
       "      <th>kms</th>\n",
       "      <th>owner</th>\n",
       "      <th>price</th>\n",
       "      <th>emi_per_month</th>\n",
       "    </tr>\n",
       "  </thead>\n",
       "  <tbody>\n",
       "    <tr>\n",
       "      <th>count</th>\n",
       "      <td>4490.000000</td>\n",
       "      <td>4490.000000</td>\n",
       "      <td>4490.000000</td>\n",
       "      <td>4.490000e+03</td>\n",
       "      <td>4490.000000</td>\n",
       "    </tr>\n",
       "    <tr>\n",
       "      <th>mean</th>\n",
       "      <td>2016.516481</td>\n",
       "      <td>45227.062361</td>\n",
       "      <td>1.228285</td>\n",
       "      <td>3.269645e+05</td>\n",
       "      <td>6972.457238</td>\n",
       "    </tr>\n",
       "    <tr>\n",
       "      <th>std</th>\n",
       "      <td>2.281839</td>\n",
       "      <td>33100.553227</td>\n",
       "      <td>0.482024</td>\n",
       "      <td>3.498120e+05</td>\n",
       "      <td>8011.797982</td>\n",
       "    </tr>\n",
       "    <tr>\n",
       "      <th>min</th>\n",
       "      <td>1997.000000</td>\n",
       "      <td>58.000000</td>\n",
       "      <td>1.000000</td>\n",
       "      <td>0.000000e+00</td>\n",
       "      <td>0.000000</td>\n",
       "    </tr>\n",
       "    <tr>\n",
       "      <th>25%</th>\n",
       "      <td>2015.000000</td>\n",
       "      <td>21563.250000</td>\n",
       "      <td>1.000000</td>\n",
       "      <td>4.879900e+04</td>\n",
       "      <td>505.250000</td>\n",
       "    </tr>\n",
       "    <tr>\n",
       "      <th>50%</th>\n",
       "      <td>2017.000000</td>\n",
       "      <td>38188.000000</td>\n",
       "      <td>1.000000</td>\n",
       "      <td>2.226490e+05</td>\n",
       "      <td>4952.500000</td>\n",
       "    </tr>\n",
       "    <tr>\n",
       "      <th>75%</th>\n",
       "      <td>2018.000000</td>\n",
       "      <td>60620.250000</td>\n",
       "      <td>1.000000</td>\n",
       "      <td>5.326740e+05</td>\n",
       "      <td>11849.000000</td>\n",
       "    </tr>\n",
       "    <tr>\n",
       "      <th>max</th>\n",
       "      <td>2021.000000</td>\n",
       "      <td>280921.000000</td>\n",
       "      <td>8.000000</td>\n",
       "      <td>2.377599e+06</td>\n",
       "      <td>52888.000000</td>\n",
       "    </tr>\n",
       "  </tbody>\n",
       "</table>\n",
       "</div>"
      ],
      "text/plain": [
       "        model_year            kms        owner         price  emi_per_month\n",
       "count  4490.000000    4490.000000  4490.000000  4.490000e+03    4490.000000\n",
       "mean   2016.516481   45227.062361     1.228285  3.269645e+05    6972.457238\n",
       "std       2.281839   33100.553227     0.482024  3.498120e+05    8011.797982\n",
       "min    1997.000000      58.000000     1.000000  0.000000e+00       0.000000\n",
       "25%    2015.000000   21563.250000     1.000000  4.879900e+04     505.250000\n",
       "50%    2017.000000   38188.000000     1.000000  2.226490e+05    4952.500000\n",
       "75%    2018.000000   60620.250000     1.000000  5.326740e+05   11849.000000\n",
       "max    2021.000000  280921.000000     8.000000  2.377599e+06   52888.000000"
      ]
     },
     "execution_count": 7,
     "metadata": {},
     "output_type": "execute_result"
    }
   ],
   "source": [
    "df.describe()"
   ]
  },
  {
   "cell_type": "code",
   "execution_count": 8,
   "id": "3783d03a",
   "metadata": {},
   "outputs": [
    {
     "data": {
      "text/plain": [
       "Index(['cars_name', 'cars_brand', 'model', 'model_year', 'car_type', 'kms',\n",
       "       'owner', 'gasoliene_type', 'price', 'emi_per_month', 'zero_downpayment',\n",
       "       'city', 'state'],\n",
       "      dtype='object')"
      ]
     },
     "execution_count": 8,
     "metadata": {},
     "output_type": "execute_result"
    }
   ],
   "source": [
    "df.columns"
   ]
  },
  {
   "cell_type": "code",
   "execution_count": 26,
   "id": "72841c32",
   "metadata": {
    "scrolled": true
   },
   "outputs": [
    {
     "data": {
      "text/plain": [
       "<Axes: >"
      ]
     },
     "execution_count": 26,
     "metadata": {},
     "output_type": "execute_result"
    },
    {
     "data": {
      "image/png": "[encoded data removed]",
      "text/plain": [
       "<Figure size 640x480 with 1 Axes>"
      ]
     },
     "metadata": {},
     "output_type": "display_data"
    }
   ],
   "source": [
    "b.plot(kind='bar')"
   ]
  },
  {
   "cell_type": "code",
   "execution_count": 27,
   "id": "ac156e26",
   "metadata": {
    "scrolled": true
   },
   "outputs": [
    {
     "data": {
      "text/plain": [
       "Maruti        49.18\n",
       "Hyundai       23.30\n",
       "Honda          6.48\n",
       "Ford           5.81\n",
       "Renault        3.30\n",
       "Toyota         2.36\n",
       "Tata           2.09\n",
       "Volkswagen     1.96\n",
       "Mahindra       1.49\n",
       "MG             0.65\n",
       "Jeep           0.62\n",
       "Datsun         0.49\n",
       "Skoda          0.49\n",
       "KIA            0.45\n",
       "Audi           0.31\n",
       "BMW            0.31\n",
       "Mercedes       0.29\n",
       "Nissan         0.24\n",
       "Fiat           0.04\n",
       "ISUZU          0.02\n",
       "HYUNDAI        0.02\n",
       "RENAULT        0.02\n",
       "Chevrolet      0.02\n",
       "Landrover      0.02\n",
       "Jaguar         0.02\n",
       "Name: cars_brand, dtype: float64"
      ]
     },
     "execution_count": 27,
     "metadata": {},
     "output_type": "execute_result"
    }
   ],
   "source": [
    "round(100*(df['cars_brand'].value_counts()/len(df.index)),2)"
   ]
  },
  {
   "cell_type": "code",
   "execution_count": 28,
   "id": "f6d1b68d",
   "metadata": {
    "scrolled": true
   },
   "outputs": [
    {
     "data": {
      "text/plain": [
       "Index(['cars_name', 'cars_brand', 'model', 'model_year', 'car_type', 'kms',\n",
       "       'owner', 'gasoliene_type', 'price', 'emi_per_month', 'zero_downpayment',\n",
       "       'city', 'state'],\n",
       "      dtype='object')"
      ]
     },
     "execution_count": 28,
     "metadata": {},
     "output_type": "execute_result"
    }
   ],
   "source": [
    "df.columns"
   ]
  },
  {
   "cell_type": "code",
   "execution_count": 29,
   "id": "91b3e65b",
   "metadata": {},
   "outputs": [
    {
     "data": {
      "text/plain": [
       "count        4490\n",
       "unique         10\n",
       "top       Gurgaon\n",
       "freq          831\n",
       "Name: city, dtype: object"
      ]
     },
     "execution_count": 29,
     "metadata": {},
     "output_type": "execute_result"
    }
   ],
   "source": [
    "df.city.describe()"
   ]
  },
  {
   "cell_type": "code",
   "execution_count": 35,
   "id": "ed04d5cb",
   "metadata": {
    "scrolled": true
   },
   "outputs": [
    {
     "data": {
      "text/plain": [
       "<Axes: >"
      ]
     },
     "execution_count": 35,
     "metadata": {},
     "output_type": "execute_result"
    },
    {
     "data": {
      "image/png": "[encoded data removed]",
      "text/plain": [
       "<Figure size 640x480 with 1 Axes>"
      ]
     },
     "metadata": {},
     "output_type": "display_data"
    }
   ],
   "source": [
    "round(100*(df['city'].value_counts()/len(df.index)),2).plot(kind='bar')\n"
   ]
  },
  {
   "cell_type": "code",
   "execution_count": 38,
   "id": "0f5ee194",
   "metadata": {},
   "outputs": [
    {
     "data": {
      "text/plain": [
       "<Axes: >"
      ]
     },
     "execution_count": 38,
     "metadata": {},
     "output_type": "execute_result"
    },
    {
     "data": {
      "image/png": "[encoded data removed]",
      "text/plain": [
       "<Figure size 640x480 with 1 Axes>"
      ]
     },
     "metadata": {},
     "output_type": "display_data"
    }
   ],
   "source": [
    "sns.barplot(100*(df['city'].value_counts()/len(df.index)))"
   ]
  }
 ],
 "metadata": {
  "kernelspec": {
   "display_name": "Python 3 (ipykernel)",
   "language": "python",
   "name": "python3"
  },
  "language_info": {
   "codemirror_mode": {
    "name": "ipython",
    "version": 3
   },
   "file_extension": ".py",
   "mimetype": "text/x-python",
   "name": "python",
   "nbconvert_exporter": "python",
   "pygments_lexer": "ipython3",
   "version": "3.10.9"
  }
 },
 "nbformat": 4,
 "nbformat_minor": 5
}
